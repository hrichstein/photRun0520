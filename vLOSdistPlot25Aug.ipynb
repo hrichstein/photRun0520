{
 "cells": [
  {
   "cell_type": "code",
   "execution_count": 1,
   "metadata": {},
   "outputs": [],
   "source": [
    "import numpy as np\n",
    "import matplotlib.pyplot as plt"
   ]
  },
  {
   "cell_type": "code",
   "execution_count": null,
   "metadata": {},
   "outputs": [],
   "source": [
    "# # Distance and los velocity\n",
    "\n",
    "# names = ['aqr2','boo1','boo2','boo4','cvn1','cvn2','car1','car2',\\\n",
    "# 'car3','cen1',\\\n",
    "# 'cet2','cet3','col1','comb1','crat2','dra1','dra2','eri2','eri3',\\\n",
    "# 'forn','grus1','grus2','herc','hor1','hor2','hya2','hyi1','ind2',\\\n",
    "# 'leo1','leo2','leo4','leov','lmc','peg3','phe1','phe2','pic2','pic1',\\\n",
    "# 'psc2','ret2','ret3','scu','seg1','seg2','sex','sgr1','sgr2','smc',\\\n",
    "# 'tri2','tuc2','tuc3','tuc4','tucv','umaj1','umaj2','umin1','vir1',\\\n",
    "# 'will'"
   ]
  },
  {
   "cell_type": "code",
   "execution_count": null,
   "metadata": {},
   "outputs": [],
   "source": [
    "# distance = [107.9,66,42,209,218,160,100,36.2,27.8,116,30,251,182,42,\\\n",
    "# 117.5,71,20,366,87,140,120,53,132,79,78,134,27.6,214,250,210,155,180,\\\n",
    "# 49.97,215,415,84.3,45,114,187,30,92,90,23,35,90,20,67,SMC,30,57,25,48,\\\n",
    "# 55,97.3,34.7,60,87,45           ]   "
   ]
  },
  {
   "cell_type": "code",
   "execution_count": 6,
   "metadata": {},
   "outputs": [],
   "source": [
    "# Distance and los velocity\n",
    "\n",
    "names = ['aqr2','boo1','boo2','cvn1','cvn2','car1','car2',\\\n",
    "'car3','comb1','crat2','dra1','dra2','eri2',\\\n",
    "'forn','grus1','herc','hor1','hya2','hyi1',\\\n",
    "'leo1','leo2','leo4','leov','lmc','peg3','phe1','phe2',\\\n",
    "'psc2','ret2','scu','seg1','seg2','sgr1','smc',\\\n",
    "'tri2','tuc2','tuc3','umaj1','umaj2','umin1','will']"
   ]
  },
  {
   "cell_type": "code",
   "execution_count": 7,
   "metadata": {},
   "outputs": [],
   "source": [
    "distance = [107.9,66,42,218,160,100,36.2,27.8,42,\\\n",
    "117.5,71,20,366,140,120,132,79,134,27.6,250,210,155,180,\\\n",
    "49.97,215,415,84.3,187,30,90,23,35,20,61.7,30,57,25,97.3,34.7,60,45]   "
   ]
  },
  {
   "cell_type": "code",
   "execution_count": 8,
   "metadata": {},
   "outputs": [],
   "source": [
    "vlos = [-71.1,101.8,-117,30.9,-128.9,229.1,477.2,284.6,\\\n",
    "98.1,87.5,-291,-347.6,75.6,55.3,-140.5,\\\n",
    "45.2,112.8,303.1,80.4,282.5,78,132.3,173.3,262.2,-223,\\\n",
    "-21.2,-42,-226.5,62.8,111.4,208.5,-40.2,140,145.6,\\\n",
    "-381.7,-129.1,-102.3,-55.3,-116.5,-246.9,-12.8]"
   ]
  },
  {
   "cell_type": "code",
   "execution_count": 9,
   "metadata": {},
   "outputs": [
    {
     "name": "stdout",
     "output_type": "stream",
     "text": [
      "41\n",
      "41\n",
      "41\n"
     ]
    }
   ],
   "source": [
    "print(len(names))\n",
    "print(len(distance))\n",
    "print(len(vlos))"
   ]
  },
  {
   "cell_type": "code",
   "execution_count": 12,
   "metadata": {},
   "outputs": [],
   "source": [
    "lg_mw = ['hya2','peg3','sgr2','tri2','tuc2']\n",
    "lg_d = [134,215,67,30,57]\n",
    "lg_v = [303.1,-223,-110,-381.7,-129.1] # sag2 comes from NK MCMC\n",
    "lmc_as = ['hor1','phe2','ret2']\n",
    "lmc_d = [79,84.3,30]\n",
    "lmc_v = [112.8,-42,62.8]"
   ]
  },
  {
   "cell_type": "code",
   "execution_count": 14,
   "metadata": {},
   "outputs": [
    {
     "data": {
      "image/png": "[encoded data removed]",
      "text/plain": [
       "<Figure size 432x288 with 1 Axes>"
      ]
     },
     "metadata": {
      "needs_background": "light"
     },
     "output_type": "display_data"
    }
   ],
   "source": [
    "fig, ax = plt.subplots()\n",
    "\n",
    "ax.scatter(distance,vlos,s=10)\n",
    "ax.scatter(lg_d,lg_v,marker='o')\n",
    "ax.scatter(lmc_d,lmc_v,marker='o')\n",
    "\n",
    "plt.show()"
   ]
  },
  {
   "cell_type": "code",
   "execution_count": 18,
   "metadata": {},
   "outputs": [
    {
     "data": {
      "image/png": "[encoded data removed]",
      "text/plain": [
       "<Figure size 504x504 with 1 Axes>"
      ]
     },
     "metadata": {
      "needs_background": "light"
     },
     "output_type": "display_data"
    }
   ],
   "source": [
    "fig, ax = plt.subplots(figsize=(7,7))\n",
    "\n",
    "ax.scatter(distance,vlos,s=10)\n",
    "ax.scatter(lg_d,lg_v,marker='o',label='Long-Term MW')\n",
    "ax.scatter(lmc_d,lmc_v,marker='o',label='LMC Associated')\n",
    "\n",
    "ax.set_xlim(0,255)\n",
    "ax.legend()\n",
    "ax.set_xlabel('Distance (kpc)')\n",
    "ax.set_ylabel('Radial Velocity (km/s)')\n",
    "\n",
    "plt.show()"
   ]
  },
  {
   "cell_type": "code",
   "execution_count": null,
   "metadata": {},
   "outputs": [],
   "source": [
    "# vlos = [-71.1,101.8,-117,197.5,boo4,30.9,-128.9,car1,477.2,284.6,\\\n",
    "# cen1,cet2,cet3,col1miss,98.1,87.5,dra1,-347.6,75.6,eri3miss,55.3,-140.5,\\\n",
    "# grus2miss,45.2,112.8,hor2miss,303.1,80.4,ind2,leo1,leo2,132.3,173.3,lmc,-223,\\\n",
    "# 21.2,-42,pic2,pic1miss,-226.5,62.8,ret3miss,scu,208.5,-40.2,sex,sgr1,sgr2,smc,\\\n",
    "# -381.7,-129.1,-102.3,tuc4miss,tuc5,-55.3,-116.5,umin1,vir1,-12.8]"
   ]
  }
 ],
 "metadata": {
  "kernelspec": {
   "display_name": "Python 3",
   "language": "python",
   "name": "python3"
  },
  "language_info": {
   "codemirror_mode": {
    "name": "ipython",
    "version": 3
   },
   "file_extension": ".py",
   "mimetype": "text/x-python",
   "name": "python",
   "nbconvert_exporter": "python",
   "pygments_lexer": "ipython3",
   "version": "3.7.6"
  }
 },
 "nbformat": 4,
 "nbformat_minor": 4
}
